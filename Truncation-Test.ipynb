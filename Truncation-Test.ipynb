{
 "cells": [
  {
   "cell_type": "markdown",
   "metadata": {},
   "source": [
    "# Take in data and creating a truncated dataset"
   ]
  },
  {
   "cell_type": "code",
   "execution_count": 66,
   "metadata": {},
   "outputs": [],
   "source": [
    "#ONLY RUN THIS ONCE\n",
    "import numpy as np\n",
    "import pandas as pd\n",
    "from astropy.io import ascii, fits\n",
    "initial = 0"
   ]
  },
  {
   "cell_type": "code",
   "execution_count": 67,
   "metadata": {
    "scrolled": true
   },
   "outputs": [],
   "source": [
    "#We should have a way to skip this step if we want\n",
    "speclist = open('testfile.txt','r+')\n",
    "\n",
    "#This is the first run. Create functions to automate this.\n",
    "\n",
    "# with open('C:\\\\Users\\\\Filip\\\\Jupyter\\\\specs\\\\textfile.txt', 'w') as speca:\n",
    "#     for line in speclist:                             \n",
    "#         if a < 5000:\n",
    "#             speca.write('E:\\\\spectradata\\\\'+line)\n",
    "#             a = a+1\n",
    "# speclist.close()\n",
    "# speca.close()\n",
    "\n",
    "#This is the second run.\n",
    "\n",
    "# with open('C:\\\\Users\\\\Filip\\\\Jupyter\\\\specs\\\\textfile.txt', 'w') as speca:\n",
    "#     for line in speclist:\n",
    "#         if a < 5000:   \n",
    "#             if count != len(prune) and a == prune[count]:\n",
    "#                 print(line)                                   #this line is just to skip the rows we don't want\n",
    "#                 a+=1\n",
    "#                 count+=1\n",
    "#             else:\n",
    "#                 speca.write('E:\\\\spectradata\\\\'+line)\n",
    "#                 a = a+1\n",
    "# speclist.close()\n",
    "# speca.close()\n",
    "\n",
    "def initialrun(numberofstars):\n",
    "    a = 0\n",
    "    with open('C:\\\\Users\\\\Filip\\\\Jupyter\\\\specs\\\\textfile.txt', 'w') as speca:\n",
    "        for line in speclist:                             \n",
    "            if a < numberofstars:\n",
    "                speca.write('E:\\\\spectradata\\\\'+line)\n",
    "                a += 1\n",
    "    speclist.close()\n",
    "    speca.close()\n",
    "    return\n",
    "\n",
    "def secondrun(numberofstars):\n",
    "    a = 0\n",
    "    count = 0\n",
    "    with open('C:\\\\Users\\\\Filip\\\\Jupyter\\\\specs\\\\textfile.txt', 'w') as speca:\n",
    "        for line in speclist:\n",
    "            if a < 5000:   \n",
    "                if count != len(prune) and a == prune[count]:\n",
    "                    print(line)                                   #this line is just to skip the rows we don't want\n",
    "                    a+=1\n",
    "                    count+=1\n",
    "                else:\n",
    "                    speca.write('E:\\\\spectradata\\\\'+line)\n",
    "                    a = a+1\n",
    "    speclist.close()\n",
    "    speca.close()\n",
    "    return"
   ]
  },
  {
   "cell_type": "code",
   "execution_count": 68,
   "metadata": {},
   "outputs": [
    {
     "name": "stdout",
     "output_type": "stream",
     "text": [
      "a\n"
     ]
    }
   ],
   "source": [
    "# import Listcreater as lc\n",
    "if initial == 0:\n",
    "    initialrun(5000)\n",
    "else:\n",
    "    secondrun(5000)"
   ]
  },
  {
   "cell_type": "code",
   "execution_count": null,
   "metadata": {},
   "outputs": [],
   "source": [
    "speclist = ascii.read('C:\\\\Users\\\\Filip\\\\Jupyter\\\\specs\\\\textfile.txt',format='no_header')"
   ]
  },
  {
   "cell_type": "code",
   "execution_count": null,
   "metadata": {},
   "outputs": [],
   "source": [
    "spec_list = []\n",
    "loglamdata = []\n",
    "\n",
    "for i in range(0,len(speclist)):\n",
    "    spec_list.append(np.array(fits.getdata(speclist[i][0],1)['flux']))          #USE THIS EXACTLY DONT MESS WITH IT\n",
    "    loglamdata.append(np.array(fits.getdata(speclist[i][0],1)['loglam']))"
   ]
  },
  {
   "cell_type": "code",
   "execution_count": null,
   "metadata": {},
   "outputs": [],
   "source": [
    "lengths = []\n",
    "infimum = []\n",
    "supremum = []\n",
    "for i in range(0,len(loglamdata)):\n",
    "    infimum.append(loglamdata[i][0])                            #List of all the first numbers\n",
    "    lengths.append(len(loglamdata[i]))                          #Obviously the lengths\n",
    "    supremum.append(loglamdata[i].max())   \n",
    "\n",
    "print('#################################')\n",
    "print(\"\\nThis is the infimum\", (np.array(infimum).max()))\n",
    "print(\"\\nThis is the supremum\", (np.array(supremum).min()))\n",
    "print(\"\\nAnd finally the range is\", (int(10000*(np.array(supremum).min()-np.array(infimum).max()))))\n",
    "print('\\n#################################')"
   ]
  },
  {
   "cell_type": "code",
   "execution_count": null,
   "metadata": {},
   "outputs": [],
   "source": [
    "prune = []\n",
    "print('############################################################')\n",
    "print(\"Our troublesome infimum values are:\")\n",
    "supremumcounter = 0\n",
    "infimumcounter = 0\n",
    "rangeinfimum = 3.5877\n",
    "rangesupremum = 3.96\n",
    "for count in range(0,len(supremum)):\n",
    "    if infimum[count] > rangeinfimum:\n",
    "        supremumcounter+=1\n",
    "        print(infimum[count], \"  \" ,count)\n",
    "        prune.append(count)\n",
    "print('############################################################')\n",
    "print(\"Our troublesome supremum values are:\")\n",
    "for count in range(0,len(supremum)):\n",
    "    if supremum[count] < rangesupremum:\n",
    "        infimumcounter+=1\n",
    "        print(supremum[count], \"  \", count)\n",
    "        prune.append(count)\n",
    "print('############################################################')\n",
    "print('If we use this range we are left with', int(10000*(rangesupremum-rangeinfimum)+1))\n",
    "\n",
    "print('\\nSupremum Count = ', supremumcounter)\n",
    "print('Infimum Count = ', infimumcounter)"
   ]
  },
  {
   "cell_type": "code",
   "execution_count": null,
   "metadata": {},
   "outputs": [],
   "source": [
    "prune = np.sort(prune)\n",
    "prune"
   ]
  },
  {
   "cell_type": "code",
   "execution_count": null,
   "metadata": {
    "scrolled": true
   },
   "outputs": [],
   "source": [
    "Flux=pd.DataFrame(spec_list)"
   ]
  },
  {
   "cell_type": "code",
   "execution_count": null,
   "metadata": {},
   "outputs": [],
   "source": [
    "Flux = Flux.T"
   ]
  },
  {
   "cell_type": "code",
   "execution_count": null,
   "metadata": {},
   "outputs": [],
   "source": [
    "loglam = pd.DataFrame(loglamdata).T"
   ]
  },
  {
   "cell_type": "code",
   "execution_count": null,
   "metadata": {},
   "outputs": [],
   "source": [
    "topcut = []\n",
    "bottomcut = []\n",
    "for count in range(0,len(supremum)):\n",
    "    topcut.append(int(round(-10000*(loglamdata[count][0]-3.5877))))\n",
    "    bottomcut.append(-int(round(-10000*(3.9600-loglamdata[count].max()))))"
   ]
  },
  {
   "cell_type": "code",
   "execution_count": null,
   "metadata": {},
   "outputs": [],
   "source": [
    "bottomcutter = []\n",
    "bottomcutter = [(lengths[i]+bottomcut[i]) for i in range(0,len(supremum))]         #Ready for the bottom"
   ]
  },
  {
   "cell_type": "code",
   "execution_count": null,
   "metadata": {},
   "outputs": [],
   "source": [
    "fluxpinched = []\n",
    "something = []\n",
    "for count in range(0,len(supremum)):\n",
    "    something = spec_list[count][:bottomcutter[count]]\n",
    "    fluxpinched.append(something[topcut[count]:])"
   ]
  },
  {
   "cell_type": "code",
   "execution_count": 69,
   "metadata": {},
   "outputs": [],
   "source": [
    "TruncatedDateset = pd.DataFrame(fluxpinched, columns = range(35877,39601,1))"
   ]
  },
  {
   "cell_type": "code",
   "execution_count": 70,
   "metadata": {},
   "outputs": [],
   "source": [
    "from sklearn.preprocessing import StandardScaler\n",
    "from sklearn.decomposition import PCA\n",
    "import matplotlib.pyplot as plt\n",
    "\n",
    "sc = StandardScaler(with_std = False)\n",
    "pca = PCA(n_components=2)\n",
    "\n",
    "tran = sc.fit_transform(TruncatedDateset)\n",
    "PC = pca.fit_transform(tran)"
   ]
  },
  {
   "cell_type": "code",
   "execution_count": 71,
   "metadata": {},
   "outputs": [
    {
     "name": "stdout",
     "output_type": "stream",
     "text": [
      "            0           1           2            3           4           5     \\\n",
      "0      37.348352   38.816744   65.121557    85.672270   27.273268   67.303011   \n",
      "1      38.816744   54.704640   66.844454    86.812112   24.431020   70.934071   \n",
      "2      65.121557   66.844454  116.909417   151.646098   48.646135  118.794911   \n",
      "3      85.672270   86.812112  151.646098   200.910716   64.489973  156.323258   \n",
      "4      27.273268   24.431020   48.646135    64.489973   22.177947   49.719905   \n",
      "5      67.303011   70.934071  118.794911   156.323258   49.719905  123.306750   \n",
      "6      37.080835   38.449872   65.451943    86.214263   27.544693   67.509919   \n",
      "7      49.256287   42.072110   88.186927   117.013433   40.144234   89.779700   \n",
      "8      78.465671   67.703959  140.824530   186.610391   63.705571  143.215670   \n",
      "9      52.902818   41.446732   95.373126   127.260212   44.808478   96.572158   \n",
      "10     69.124565   63.797111  123.038368   162.998075   54.417138  125.993216   \n",
      "11     90.401262  102.834261  158.771644   208.411126   64.286865  165.135509   \n",
      "12     93.385871  108.212683  164.076881   215.056241   65.761689  170.754958   \n",
      "13     74.192321   63.277986  132.955261   176.362966   60.463472  135.250788   \n",
      "14     41.986313   43.758997   74.037499    97.865144   31.180079   76.657285   \n",
      "15     63.474389   72.187535  111.614708   146.125387   45.116109  116.042349   \n",
      "16     53.292700   54.099712   94.067524   124.363048   40.038448   97.123879   \n",
      "17     94.278860  112.393057  164.983099   215.966348   65.328670  172.497161   \n",
      "18     63.200772   72.273593  111.000615   145.595836   44.868914  115.646615   \n",
      "19     49.189329   45.731921   87.591751   115.659329   38.525989   89.576656   \n",
      "20     73.240175   69.182386  130.179321   172.191937   57.053917  133.576618   \n",
      "21     62.196452   62.471844  110.098670   145.259808   47.014116  113.507833   \n",
      "22     66.398832   69.057188  117.443382   154.296022   49.271202  121.057774   \n",
      "23    123.533066  164.462446  213.896253   278.906080   80.273551  226.067299   \n",
      "24     66.840993   72.458954  117.668707   154.824176   48.601168  121.988054   \n",
      "25    111.763911  113.181332  197.764099   260.515573   83.915222  203.744935   \n",
      "26     72.439034   77.408852  127.432164   168.041309   53.050275  132.036753   \n",
      "27    101.472458  121.707149  177.605715   231.984705   70.086541  185.521151   \n",
      "28     40.962184   47.585225   71.755285    94.148325   28.844620   74.911918   \n",
      "29     65.377447   66.470270  115.715783   152.354722   49.101540  119.254473   \n",
      "...          ...         ...         ...          ...         ...         ...   \n",
      "4940   85.797259   91.645838  151.244255   198.753911   62.713836  156.574342   \n",
      "4941  529.434969  597.506669  929.454400  1218.440003  376.302531  966.613361   \n",
      "4942   72.579452   79.643460  127.749716   167.803504   52.490136  132.454178   \n",
      "4943   71.082542   77.273541  125.100551   164.503924   51.600373  129.671889   \n",
      "4944   63.980670   59.078918  113.999422   151.013182   50.395853  116.732678   \n",
      "4945   63.664172   57.970838  113.562884   150.549486   50.422390  116.074301   \n",
      "4946   33.880484   27.995469   60.885054    80.948852   27.979516   61.837692   \n",
      "4947   31.758803   35.694449   55.889096    73.424897   22.758693   58.114616   \n",
      "4948   47.292706   47.209646   83.734099   110.719939   35.864993   86.292964   \n",
      "4949   26.623450   30.495084   46.662181    61.343298   18.826395   48.685256   \n",
      "4950   34.135394   32.065282   60.630224    80.478393   26.652872   62.223836   \n",
      "4951   89.556536  100.549066  157.306255   206.603193   64.021989  163.469733   \n",
      "4952   78.387440   92.467961  137.330994   179.723220   54.599192  143.259327   \n",
      "4953   41.494262   45.477906   73.002739    96.197857   30.094752   75.764070   \n",
      "4954   28.399425   30.465529   50.039906    65.972426   20.767336   51.824491   \n",
      "4955   34.270484   45.124299   59.294838    77.371154   22.386115   62.610489   \n",
      "4956   35.152467   30.703508   62.873866    83.207412   28.278329   64.069912   \n",
      "4957   76.399386   88.860032  133.798128   175.594740   53.564508  139.532142   \n",
      "4958   94.614952   99.663008  166.687551   219.590921   69.697774  172.472648   \n",
      "4959   95.529825  101.709713  168.272967   221.636930   70.077416  174.183441   \n",
      "4960   25.661181   24.028071   45.597144    60.267969   20.027082   46.700724   \n",
      "4961   87.473457  104.168569  153.181016   200.563519   60.695819  159.888944   \n",
      "4962  519.485869  589.689056  911.621387  1194.746205  368.132980  948.656906   \n",
      "4963   68.437232   69.968403  120.803034   159.438102   51.213664  124.723751   \n",
      "4964   84.765265  101.803916  148.352258   194.261046   58.538547  155.045061   \n",
      "4965   37.018578   43.203687   64.919626    85.032743   25.919504   67.670403   \n",
      "4966   77.154384   83.613484  136.116002   179.096394   56.248988  140.903242   \n",
      "4967   39.601792   50.107283   69.000215    89.999368   26.516170   72.425520   \n",
      "4968   78.137972   84.936355  137.755280   181.110991   56.889747  142.664570   \n",
      "4969   70.220334   72.032651  124.048028   163.582173   52.440990  128.058719   \n",
      "\n",
      "            6           7            8           9        ...       \\\n",
      "0      37.080835   49.256287    78.465671   52.902818     ...        \n",
      "1      38.449872   42.072110    67.703959   41.446732     ...        \n",
      "2      65.451943   88.186927   140.824530   95.373126     ...        \n",
      "3      86.214263  117.013433   186.610391  127.260212     ...        \n",
      "4      27.544693   40.144234    63.705571   44.808478     ...        \n",
      "5      67.509919   89.779700   143.215670   96.572158     ...        \n",
      "6      37.794570   49.718536    79.173196   53.388605     ...        \n",
      "7      49.718536   74.772549   118.142182   84.005185     ...        \n",
      "8      79.173196  118.142182   189.358456  133.440125     ...        \n",
      "9      53.388605   84.005185   133.440125   98.294977     ...        \n",
      "10     69.617395  100.004057   159.191162  111.234805     ...        \n",
      "11     90.491577  114.949107   183.885779  121.560585     ...        \n",
      "12     93.396196  117.385469   188.111639  123.691324     ...        \n",
      "13     74.924865  112.096725   178.259787  126.734943     ...        \n",
      "14     42.186270   56.371856    89.856513   60.740479     ...        \n",
      "15     63.441845   80.679890   129.136449   85.251157     ...        \n",
      "16     53.570152   72.589347   115.645628   78.527274     ...        \n",
      "17     94.050973  116.027487   185.863674  121.065936     ...        \n",
      "18     63.209497   80.171094   128.183488   84.685311     ...        \n",
      "19     49.604742   70.634124   112.474388   78.097587     ...        \n",
      "20     73.651799  104.661240   166.763090  115.704353     ...        \n",
      "21     62.511026   85.436377   136.238027   92.701573     ...        \n",
      "22     66.621105   89.154221   142.310133   95.789835     ...        \n",
      "23    122.630851  139.866657   224.893177  141.045690     ...        \n",
      "24     67.035136   87.393295   139.602611   93.314471     ...        \n",
      "25    112.304335  152.456955   243.207722  164.751500     ...        \n",
      "26     72.717762   95.485229   152.419850  102.165649     ...        \n",
      "27    101.117253  124.381893   199.383376  129.682598     ...        \n",
      "28     40.941991   51.352441    82.137613   54.077941     ...        \n",
      "29     65.600950   89.171962   142.342376   96.623113     ...        \n",
      "...          ...         ...          ...         ...     ...        \n",
      "4940   86.003434  113.163997   180.829110  120.843507     ...        \n",
      "4941  529.106074  673.792808  1077.686906  710.622924     ...        \n",
      "4942   72.677806   94.274411   150.599590  100.293852     ...        \n",
      "4943   71.171935   92.910721   148.433918   99.245859     ...        \n",
      "4944   64.474392   92.530413   147.238657  102.740211     ...        \n",
      "4945   64.171460   92.827656   147.774511  103.583657     ...        \n",
      "4946   34.182341   52.125145    82.899233   59.504086     ...        \n",
      "4947   31.803722   40.790627    65.165403   43.247514     ...        \n",
      "4948   47.514832   65.290875   104.172450   71.312808     ...        \n",
      "4949   26.604096   33.678530    53.873056   35.534251     ...        \n",
      "4950   34.389171   48.879828    77.874668   53.993148     ...        \n",
      "4951   89.553307  114.736521   183.444023  121.669309     ...        \n",
      "4952   78.289673   97.088195   155.285972  101.578505     ...        \n",
      "4953   41.559729   54.131519    86.516227   57.868239     ...        \n",
      "4954   28.455658   37.446383    59.850179   40.209735     ...        \n",
      "4955   33.959282   39.158451    62.871980   39.502018     ...        \n",
      "4956   35.444505   52.275758    83.099532   58.631982     ...        \n",
      "4957   76.275051   95.504952   152.947805  100.411959     ...        \n",
      "4958   94.870928  125.957253   200.988312  135.074622     ...        \n",
      "4959   95.764958  126.447881   201.822331  135.346100     ...        \n",
      "4960   25.850544   36.662908    58.294243   40.380619     ...        \n",
      "4961   87.363532  107.827008   172.618649  112.536353     ...        \n",
      "4962  519.060515  658.534044  1053.566359  693.318094     ...        \n",
      "4963   68.742713   92.825914   148.048287  100.278790     ...        \n",
      "4964   84.607468  103.873783   166.482401  108.285847     ...        \n",
      "4965   36.982794   46.185708    74.026044   48.538496     ...        \n",
      "4966   77.444219  101.182746   161.793701  108.583709     ...        \n",
      "4967   39.405381   46.581616    74.792196   47.816857     ...        \n",
      "4968   78.335992  102.351438   163.503792  109.568406     ...        \n",
      "4969   70.594271   95.061039   151.646375  102.531121     ...        \n",
      "\n",
      "            4960         4961         4962        4963         4964  \\\n",
      "0      25.661181    87.473457   519.485869   68.437232    84.765265   \n",
      "1      24.028071   104.168569   589.689056   69.968403   101.803916   \n",
      "2      45.597144   153.181016   911.621387  120.803034   148.352258   \n",
      "3      60.267969   200.563519  1194.746205  159.438102   194.261046   \n",
      "4      20.027082    60.695819   368.132980   51.213664    58.538547   \n",
      "5      46.700724   159.888944   948.656906  124.723751   155.045061   \n",
      "6      25.850544    87.363532   519.060515   68.742713    84.607468   \n",
      "7      36.662908   107.827008   658.534044   92.825914   103.873783   \n",
      "8      58.294243   172.618649  1053.566359  148.048287   166.482401   \n",
      "9      40.380619   112.536353   693.318094  100.278790   108.285847   \n",
      "10     50.187281   155.678746   941.911121  129.641890   150.420425   \n",
      "11     61.028508   222.779568  1300.100325  166.535771   216.495311   \n",
      "12     62.688801   232.142640  1350.971243  171.913375   225.737671   \n",
      "13     55.247002   162.466009   992.709326  139.873898   156.542946   \n",
      "14     29.239150    99.399742   590.187775   78.041827    96.449355   \n",
      "15     42.888081   156.197182   913.739561  116.881001   151.702576   \n",
      "16     37.477100   124.678514   743.555333   99.243935   120.767190   \n",
      "17     62.504140   236.837134  1374.884981  172.966924   230.538601   \n",
      "18     42.613589   155.848360   911.184634  116.429965   151.476263   \n",
      "19     35.593864   111.110884   671.437860   92.042688   107.223979   \n",
      "20     52.892340   166.557951  1004.603645  137.185752   160.963017   \n",
      "21     43.947230   144.843888   866.881011  116.005753   140.278707   \n",
      "22     46.341506   156.795234   932.879769  123.238505   151.847258   \n",
      "23     78.244710   326.410938  1856.427005  224.229140   318.605983   \n",
      "24     45.880404   160.902465   949.240333  123.622092   156.126497   \n",
      "25     78.712318   261.165711  1560.879699  208.226181   252.874975   \n",
      "26     49.988176   173.068767  1024.085950  134.282121   167.870492   \n",
      "27     67.094046   255.618483  1481.514718  185.868626   248.740598   \n",
      "28     27.446626   101.713970   592.566015   75.337011    98.898705   \n",
      "29     45.948438   153.001436   913.185983  121.669925   148.158594   \n",
      "...          ...          ...          ...         ...          ...   \n",
      "4940   59.264491   204.962357  1215.748991  159.086521   198.788423   \n",
      "4941  358.120635  1295.497586  7609.747130  975.973979  1258.678964   \n",
      "4942   49.669537   175.802475  1034.602344  134.192693   170.525682   \n",
      "4943   48.838401   171.415782  1010.536302  131.535160   166.337511   \n",
      "4944   46.506480   144.577775   872.616696  120.066232   139.603047   \n",
      "4945   46.522501   143.060478   865.363682  119.656186   138.133148   \n",
      "4946   25.496788    73.554168   450.630581   64.141998    70.867538   \n",
      "4947   21.623772    77.854796   455.806716   58.715995    75.764294   \n",
      "4948   33.482273   110.014195   658.094958   88.331680   106.613173   \n",
      "4949   17.964640    65.702456   384.201322   49.124063    63.941479   \n",
      "4950   24.665281    77.481017   467.612297   64.121720    74.883623   \n",
      "4951   60.805544   219.180289  1284.237316  165.293183   212.851347   \n",
      "4952   52.268360   196.306564  1139.437442  143.868433   190.893838   \n",
      "4953   28.454742   100.542689   590.982467   76.813083    97.603065   \n",
      "4954   19.576721    68.136381   402.341875   52.656227    66.154918   \n",
      "4955   21.831538    89.854149   512.844397   62.276028    87.634295   \n",
      "4956   26.059112    77.748064   472.817096   66.019847    74.889461   \n",
      "4957   51.119982   189.947097  1106.207942  140.512406   184.717803   \n",
      "4958   65.690745   224.676246  1334.283356  175.748128   217.907297   \n",
      "4959   66.134049   228.106472  1350.968416  177.326050   221.146752   \n",
      "4960   18.942280    58.093203   350.644384   48.081527    56.100872   \n",
      "4961   58.093203   221.698807  1274.294127  160.514495   214.119727   \n",
      "4962  350.644384  1274.294127  7481.604219  957.461622  1238.577426   \n",
      "4963   48.081527   160.514495   957.461622  127.878751   155.567274   \n",
      "4964   56.100872   214.119727  1238.577426  155.567274   208.942164   \n",
      "4965   24.762672    92.176713   537.148600   68.082576    89.774870   \n",
      "4966   52.893903   186.201173  1095.979285  142.788261   180.687222   \n",
      "4967   25.634871   102.362401   587.348970   72.277789    99.897148   \n",
      "4968   53.716632   188.756696  1110.581431  144.521788   183.165930   \n",
      "4969   49.175679   165.095218   983.866783  130.804343   159.885943   \n",
      "\n",
      "            4965         4966        4967         4968         4969  \n",
      "0      37.018578    77.154384   39.601792    78.137972    70.220334  \n",
      "1      43.203687    83.613484   50.107283    84.936355    72.032651  \n",
      "2      64.919626   136.116002   69.000215   137.755280   124.048028  \n",
      "3      85.032743   179.096394   89.999368   181.110991   163.582173  \n",
      "4      25.919504    56.248988   26.516170    56.889747    52.440990  \n",
      "5      67.670403   140.903242   72.425520   142.664570   128.058719  \n",
      "6      36.982794    77.444219   39.405381    78.335992    70.594271  \n",
      "7      46.185708   101.182746   46.581616   102.351438    95.061039  \n",
      "8      74.026044   161.793701   74.792196   163.503792   151.646375  \n",
      "9      48.538496   108.583709   47.816857   109.568406   102.531121  \n",
      "10     66.475208   143.133285   68.520144   144.639582   132.862714  \n",
      "11     93.685446   191.284778  102.602570   193.958747   171.109677  \n",
      "12     97.477545   198.136454  107.259135   200.842401   176.644476  \n",
      "13     69.749064   152.854169   70.369407   154.524315   143.314914  \n",
      "14     42.074240    87.889651   44.908106    88.985691    80.064480  \n",
      "15     65.798860   134.164770   71.959984   136.035381   120.038269  \n",
      "16     52.848664   111.071191   55.995539   112.486147   101.791816  \n",
      "17     99.444205   200.286360  110.264779   203.124540   177.791582  \n",
      "18     65.597327   133.713277   71.859108   135.472194   119.592944  \n",
      "19     47.458861   101.933537   49.040697   103.097631    94.445538  \n",
      "20     70.973034   151.726647   73.622811   153.581118   140.576554  \n",
      "21     61.458379   129.525795   64.896314   131.084886   118.948479  \n",
      "22     66.373929   138.523750   70.716810   140.348711   126.449661  \n",
      "23    135.610615   265.736883  155.462323   269.756445   230.898184  \n",
      "24     67.993727   140.597551   73.357991   142.309630   126.969701  \n",
      "25    110.832328   232.789294  117.263178   235.696203   213.643577  \n",
      "26     73.156473   151.913508   78.679629   153.775607   137.828235  \n",
      "27    107.268116   215.602086  119.144997   218.696319   191.148131  \n",
      "28     42.745512    86.795124   47.063533    87.905941    77.402133  \n",
      "29     64.873510   136.348642   68.696560   137.893068   124.766044  \n",
      "...          ...          ...         ...          ...          ...  \n",
      "4940   86.772128   179.874327   93.174946   182.097805   163.319285  \n",
      "4941  546.163136  1116.325890  596.180529  1131.012823  1002.879445  \n",
      "4942   74.110794   152.922054   80.270896   154.803311   138.051839  \n",
      "4943   72.349499   149.327903   78.182538   151.427033   135.116391  \n",
      "4944   61.669399   132.810767   63.606666   134.250468   123.263177  \n",
      "4945   61.123459   131.943332   62.779859   133.486209   122.646451  \n",
      "4946   31.600973    69.680041   31.586845    70.471785    65.722703  \n",
      "4947   32.768764    67.053253   35.796631    67.939207    60.267165  \n",
      "4948   46.772275    98.656762   49.288054    99.795446    90.581341  \n",
      "4949   27.637066    56.222618   30.326056    57.043732    50.427996  \n",
      "4950   33.090540    70.924198   34.242158    71.564140    65.732822  \n",
      "4951   92.341185   189.131792  100.719495   191.680426   169.707728  \n",
      "4952   82.306554   166.458925   91.180744   168.906976   147.888842  \n",
      "4953   42.340763    87.345312   45.860595    88.498872    78.834077  \n",
      "4954   28.841972    59.783989   31.019526    60.469680    54.007798  \n",
      "4955   37.352103    73.361779   42.616772    74.535220    64.092187  \n",
      "4956   33.229965    72.225835   33.746320    73.354657    67.644049  \n",
      "4957   79.848941   162.003933   87.968675   164.251328   144.354312  \n",
      "4958   95.104712   197.905916  101.815897   200.423435   180.381765  \n",
      "4959   96.342388   200.259546  103.488027   202.595306   182.253449  \n",
      "4960   24.762672    52.893903   25.634871    53.716632    49.175679  \n",
      "4961   92.176713   186.201173  102.362401   188.756696   165.095218  \n",
      "4962  537.148600  1095.979285  587.348970  1110.581431   983.866783  \n",
      "4963   68.082576   142.788261   72.277789   144.521788   130.804343  \n",
      "4964   89.774870   180.687222   99.897148   183.165930   159.885943  \n",
      "4965   39.213625    78.731425   42.894888    79.785507    69.951234  \n",
      "4966   78.731425   165.016634   85.007068   164.792379   146.944394  \n",
      "4967   42.894888    85.007068   48.771136    86.239517    74.334692  \n",
      "4968   79.785507   164.792379   86.239517   167.412074   148.370587  \n",
      "4969   69.951234   146.944394   74.334692   148.370587   136.004383  \n",
      "\n",
      "[4970 rows x 4970 columns]\n"
     ]
    }
   ],
   "source": [
    "cov = (TruncatedDateset).dot((TruncatedDateset.T)) / (TruncatedDateset.T.shape[0]-1)\n",
    "eig_vals, eig_vecs = np.linalg.eig(cov)\n",
    "tot = sum(eig_vals)\n",
    "var_exp = [(i / tot) for i in sorted(eig_vals, reverse=True)]"
   ]
  },
  {
   "cell_type": "code",
   "execution_count": 72,
   "metadata": {},
   "outputs": [
    {
     "name": "stdout",
     "output_type": "stream",
     "text": [
      "These are the first 7 Eigenvalues:\n",
      "(46198099.40754162+0j)\n",
      "(1794052.668538396+0j)\n",
      "(101722.87035054392+0j)\n",
      "(17489.36694212483+0j)\n",
      "(7583.250473569417+0j)\n",
      "(4299.387715532404+0j)\n",
      "(3890.938480558561+0j)\n",
      "##################################\n",
      "Eigenvalue Percentage:\n",
      "95.870\n",
      "3.723\n"
     ]
    },
    {
     "name": "stderr",
     "output_type": "stream",
     "text": [
      "C:\\Users\\Filip\\Anaconda3\\lib\\site-packages\\ipykernel_launcher.py:5: ComplexWarning: Casting complex values to real discards the imaginary part\n",
      "  \"\"\"\n",
      "C:\\Users\\Filip\\Anaconda3\\lib\\site-packages\\ipykernel_launcher.py:6: ComplexWarning: Casting complex values to real discards the imaginary part\n",
      "  \n"
     ]
    }
   ],
   "source": [
    "print(\"These are the first 7 Eigenvalues:\")\n",
    "[(print(eig_vals[count])) for count in range(0,7)]\n",
    "print('##################################')\n",
    "print(\"Eigenvalue Percentage:\")\n",
    "print(\"%.3f\" %(var_exp[0]*100))\n",
    "print(\"%.3f\" %(var_exp[1]*100))"
   ]
  },
  {
   "cell_type": "code",
   "execution_count": 73,
   "metadata": {},
   "outputs": [],
   "source": [
    "Prince = pd.DataFrame(PC,columns = ['Principal Component 1', 'Principal Component 2'])"
   ]
  },
  {
   "cell_type": "code",
   "execution_count": 74,
   "metadata": {
    "scrolled": true
   },
   "outputs": [],
   "source": [
    "# Prince.loc[:,'Principal Component 2']*=-1"
   ]
  },
  {
   "cell_type": "markdown",
   "metadata": {},
   "source": [
    "Need to review the classification to find out more about what is going on."
   ]
  },
  {
   "cell_type": "code",
   "execution_count": 75,
   "metadata": {
    "scrolled": true
   },
   "outputs": [
    {
     "data": {
      "image/png": "[encoded data removed]",
      "text/plain": [
       "<Figure size 432x288 with 1 Axes>"
      ]
     },
     "metadata": {},
     "output_type": "display_data"
    }
   ],
   "source": [
    "Prince.plot.scatter(x='Principal Component 1', y = 'Principal Component 2')\n",
    "plt.title('Principal Component Analysis')\n",
    "plt.show()"
   ]
  },
  {
   "cell_type": "code",
   "execution_count": 76,
   "metadata": {},
   "outputs": [],
   "source": [
    "from sklearn.manifold import TSNE\n",
    "TsneTest = TSNE(n_components=2).fit_transform(tran)"
   ]
  },
  {
   "cell_type": "code",
   "execution_count": 77,
   "metadata": {},
   "outputs": [
    {
     "data": {
      "image/png": "[encoded data removed]",
      "text/plain": [
       "<Figure size 432x288 with 1 Axes>"
      ]
     },
     "metadata": {},
     "output_type": "display_data"
    }
   ],
   "source": [
    "tSNEdata = pd.DataFrame(TsneTest,columns = ['x-tsne', 'y-tsne'])\n",
    "tSNEdata.plot.scatter(x='x-tsne', y = 'y-tsne')\n",
    "plt.title('t-SNE')\n",
    "plt.show()"
   ]
  },
  {
   "cell_type": "markdown",
   "metadata": {},
   "source": [
    "This seems great, still need to find out what each of the samples are."
   ]
  }
 ],
 "metadata": {
  "kernelspec": {
   "display_name": "Python 3",
   "language": "python",
   "name": "python3"
  },
  "language_info": {
   "codemirror_mode": {
    "name": "ipython",
    "version": 3
   },
   "file_extension": ".py",
   "mimetype": "text/x-python",
   "name": "python",
   "nbconvert_exporter": "python",
   "pygments_lexer": "ipython3",
   "version": "3.6.4"
  }
 },
 "nbformat": 4,
 "nbformat_minor": 2
}
